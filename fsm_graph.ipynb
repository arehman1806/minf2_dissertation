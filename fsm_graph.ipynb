{
 "cells": [
  {
   "cell_type": "code",
   "execution_count": 36,
   "metadata": {},
   "outputs": [
    {
     "name": "stdout",
     "output_type": "stream",
     "text": [
      "FSM diagram saved as fsm_with_start_end_transitions.png\n"
     ]
    }
   ],
   "source": [
    "from graphviz import Digraph\n",
    "\n",
    "def create_fsm_diagram(options, transitions_map, num_variants, start_state, end_states, filename='fsm_graph'):\n",
    "    dot = Digraph(comment='FSM Diagram', format='png')\n",
    "    \n",
    "    # Add the start state\n",
    "    dot.node(start_state, start_state, shape='Mdiamond')\n",
    "    \n",
    "    # Generate and add states to the graph\n",
    "    states = [(option, i) for option in options for i in range(num_variants)]\n",
    "    for option, i in states:\n",
    "        state_name = f\"{option}, {i}\"\n",
    "        dot.node(state_name, state_name)\n",
    "    \n",
    "    # Add end states\n",
    "    for end_state in end_states:\n",
    "        dot.node(end_state, end_state, shape='Msquare')\n",
    "    \n",
    "    # Handle transitions including those from the start state and to end states\n",
    "    for start, transitions in transitions_map.items():\n",
    "        # For start state transitions\n",
    "        if start == start_state:\n",
    "            for end, label in transitions:\n",
    "                # Format end state name based on whether it's a regular or end state\n",
    "                end_state_name = f\"{end[0]}, {end[1]}\" if end[1] is not None else f\"{end[0]}\"\n",
    "                dot.edge(start, end_state_name, label=label)\n",
    "        else:\n",
    "            start_state_name = f\"{start[0]}, {start[1]}\"\n",
    "            for end, label in transitions:\n",
    "                end_state_name = f\"{end[0]}, {end[1]}\" if end[1] is not None else f\"{end[0]}\"\n",
    "                dot.edge(start_state_name, end_state_name, label=label)\n",
    "\n",
    "    # Render the graph to a file\n",
    "    dot.render(filename, view=True)\n",
    "    print(f\"FSM diagram saved as {filename}.png\")\n",
    "\n",
    "# Define your FSM structure\n",
    "options = ['Grasp', 'Push', 'Pick', 'Drag', 'Reorient']\n",
    "transitions_map = {\n",
    "    'Start': [(('Grasp', 0), \"Grasp, success\"), (('Grasp', 1), \"Grasp, failure\")],\n",
    "    ('Grasp', 0): [(('Pick', 0), \"Pick, success\"), (('Pick', 1), \"Pick, failure\")],\n",
    "    ('Grasp', 1): [(('Reorient', 0), \"Reorient, success\"), (('Reorient', 1), \"Reorient, failure\")],\n",
    "    ('Pick', 0): [(('Drag', 0), \"Drag, success\"), (('Drag', 1), \"Drag, failure\")],\n",
    "    ('Pick', 1): [(('Reorient', 0), \"Reorient, success\"), (('Reorient',1), \"Reorient, failure\")],\n",
    "    ('Drag', 0): [(('Success', None), \"success\")],\n",
    "    ('Drag', 1): [(('Reorient', 0), \"Reorient, success\"), (('Reorient', 1), \"Reorient, failure\")],\n",
    "    ('Push', 0): [(('Reorient', 0), \"Reorient, success\"), (('Reorient', 1), \"Reorient, failure\"), (('Success', None), \"Reached Tgt\")],\n",
    "    ('Push', 1): [(('Failure', None), \"Failure\")],\n",
    "    ('Reorient', 0): [(('Push', 0), \"Push, success\"), (('Push', 1), \"Push, failure\")],\n",
    "    # Additional transitions...\n",
    "    ('Reorient', 1): [(('Failure', None), \"Failure\")],  # Transition to an end state as an example\n",
    "}\n",
    "num_variants = 2  # Including 0 and 1\n",
    "start_state = 'Start'\n",
    "end_states = ['Success', 'Failure']\n",
    "\n",
    "create_fsm_diagram(options, transitions_map, num_variants, start_state, end_states, 'fsm_with_start_end_transitions')\n"
   ]
  }
 ],
 "metadata": {
  "kernelspec": {
   "display_name": "dissertation",
   "language": "python",
   "name": "python3"
  },
  "language_info": {
   "codemirror_mode": {
    "name": "ipython",
    "version": 3
   },
   "file_extension": ".py",
   "mimetype": "text/x-python",
   "name": "python",
   "nbconvert_exporter": "python",
   "pygments_lexer": "ipython3",
   "version": "3.8.18"
  }
 },
 "nbformat": 4,
 "nbformat_minor": 2
}
